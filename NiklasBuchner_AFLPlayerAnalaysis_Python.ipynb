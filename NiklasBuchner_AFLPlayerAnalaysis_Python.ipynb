{
 "cells": [
  {
   "cell_type": "code",
   "execution_count": null,
   "metadata": {},
   "outputs": [
    {
     "name": "stdout",
     "output_type": "stream",
     "text": [
      ">>>>>>>>>>>>>>PLAYERS<<<<<<<<<<<<\n"
     ]
    },
    {
     "data": {
      "text/html": [
       "<div>\n",
       "<style scoped>\n",
       "    .dataframe tbody tr th:only-of-type {\n",
       "        vertical-align: middle;\n",
       "    }\n",
       "\n",
       "    .dataframe tbody tr th {\n",
       "        vertical-align: top;\n",
       "    }\n",
       "\n",
       "    .dataframe thead th {\n",
       "        text-align: right;\n",
       "    }\n",
       "</style>\n",
       "<table border=\"1\" class=\"dataframe\">\n",
       "  <thead>\n",
       "    <tr style=\"text-align: right;\">\n",
       "      <th></th>\n",
       "      <th>gameId</th>\n",
       "      <th>year</th>\n",
       "      <th>round</th>\n",
       "      <th>date</th>\n",
       "      <th>venue</th>\n",
       "      <th>startTime</th>\n",
       "      <th>attendance</th>\n",
       "      <th>homeTeam</th>\n",
       "      <th>homeTeamScore</th>\n",
       "      <th>awayTeam</th>\n",
       "      <th>awayTeamScore</th>\n",
       "      <th>rainfall</th>\n",
       "    </tr>\n",
       "  </thead>\n",
       "  <tbody>\n",
       "    <tr>\n",
       "      <th>0</th>\n",
       "      <td>2021R101</td>\n",
       "      <td>2021</td>\n",
       "      <td>R1</td>\n",
       "      <td>18-Mar-2021</td>\n",
       "      <td>M.C.G.</td>\n",
       "      <td>7:25 PM</td>\n",
       "      <td>49218</td>\n",
       "      <td>Richmond</td>\n",
       "      <td>105</td>\n",
       "      <td>Carlton</td>\n",
       "      <td>80</td>\n",
       "      <td>0.0</td>\n",
       "    </tr>\n",
       "    <tr>\n",
       "      <th>1</th>\n",
       "      <td>2021R102</td>\n",
       "      <td>2021</td>\n",
       "      <td>R1</td>\n",
       "      <td>19-Mar-2021</td>\n",
       "      <td>M.C.G.</td>\n",
       "      <td>7:50 PM</td>\n",
       "      <td>46051</td>\n",
       "      <td>Collingwood</td>\n",
       "      <td>53</td>\n",
       "      <td>Western Bulldogs</td>\n",
       "      <td>69</td>\n",
       "      <td>0.0</td>\n",
       "    </tr>\n",
       "  </tbody>\n",
       "</table>\n",
       "</div>"
      ],
      "text/plain": [
       "     gameId  year round         date   venue startTime  attendance  \\\n",
       "0  2021R101  2021    R1  18-Mar-2021  M.C.G.   7:25 PM       49218   \n",
       "1  2021R102  2021    R1  19-Mar-2021  M.C.G.   7:50 PM       46051   \n",
       "\n",
       "      homeTeam  homeTeamScore          awayTeam  awayTeamScore  rainfall  \n",
       "0     Richmond            105           Carlton             80       0.0  \n",
       "1  Collingwood             53  Western Bulldogs             69       0.0  "
      ]
     },
     "metadata": {},
     "output_type": "display_data"
    },
    {
     "name": "stdout",
     "output_type": "stream",
     "text": [
      "\n"
     ]
    },
    {
     "data": {
      "text/html": [
       "<div>\n",
       "<style scoped>\n",
       "    .dataframe tbody tr th:only-of-type {\n",
       "        vertical-align: middle;\n",
       "    }\n",
       "\n",
       "    .dataframe tbody tr th {\n",
       "        vertical-align: top;\n",
       "    }\n",
       "\n",
       "    .dataframe thead th {\n",
       "        text-align: right;\n",
       "    }\n",
       "</style>\n",
       "<table border=\"1\" class=\"dataframe\">\n",
       "  <thead>\n",
       "    <tr style=\"text-align: right;\">\n",
       "      <th></th>\n",
       "      <th>gameId</th>\n",
       "      <th>year</th>\n",
       "      <th>round</th>\n",
       "      <th>date</th>\n",
       "      <th>venue</th>\n",
       "      <th>startTime</th>\n",
       "      <th>attendance</th>\n",
       "      <th>homeTeam</th>\n",
       "      <th>homeTeamScore</th>\n",
       "      <th>awayTeam</th>\n",
       "      <th>awayTeamScore</th>\n",
       "      <th>rainfall</th>\n",
       "    </tr>\n",
       "  </thead>\n",
       "  <tbody>\n",
       "    <tr>\n",
       "      <th>2022</th>\n",
       "      <td>2012PF02</td>\n",
       "      <td>2012</td>\n",
       "      <td>PF</td>\n",
       "      <td>22-Sep-2012</td>\n",
       "      <td>M.C.G.</td>\n",
       "      <td>5:15 PM</td>\n",
       "      <td>69146</td>\n",
       "      <td>Hawthorn</td>\n",
       "      <td>97</td>\n",
       "      <td>Adelaide</td>\n",
       "      <td>92</td>\n",
       "      <td>1.0</td>\n",
       "    </tr>\n",
       "    <tr>\n",
       "      <th>2023</th>\n",
       "      <td>2012GF01</td>\n",
       "      <td>2012</td>\n",
       "      <td>GF</td>\n",
       "      <td>29-Sep-2012</td>\n",
       "      <td>M.C.G.</td>\n",
       "      <td>2:30 PM</td>\n",
       "      <td>99683</td>\n",
       "      <td>Hawthorn</td>\n",
       "      <td>81</td>\n",
       "      <td>Sydney</td>\n",
       "      <td>91</td>\n",
       "      <td>8.4</td>\n",
       "    </tr>\n",
       "  </tbody>\n",
       "</table>\n",
       "</div>"
      ],
      "text/plain": [
       "        gameId  year round         date   venue startTime  attendance  \\\n",
       "2022  2012PF02  2012    PF  22-Sep-2012  M.C.G.   5:15 PM       69146   \n",
       "2023  2012GF01  2012    GF  29-Sep-2012  M.C.G.   2:30 PM       99683   \n",
       "\n",
       "      homeTeam  homeTeamScore  awayTeam  awayTeamScore  rainfall  \n",
       "2022  Hawthorn             97  Adelaide             92       1.0  \n",
       "2023  Hawthorn             81    Sydney             91       8.4  "
      ]
     },
     "metadata": {},
     "output_type": "display_data"
    },
    {
     "name": "stdout",
     "output_type": "stream",
     "text": [
      "\n",
      "<class 'pandas.core.frame.DataFrame'>\n",
      "RangeIndex: 2024 entries, 0 to 2023\n",
      "Data columns (total 12 columns):\n",
      " #   Column         Non-Null Count  Dtype  \n",
      "---  ------         --------------  -----  \n",
      " 0   gameId         2024 non-null   object \n",
      " 1   year           2024 non-null   int64  \n",
      " 2   round          2024 non-null   object \n",
      " 3   date           2024 non-null   object \n",
      " 4   venue          2024 non-null   object \n",
      " 5   startTime      2024 non-null   object \n",
      " 6   attendance     2024 non-null   int64  \n",
      " 7   homeTeam       2024 non-null   object \n",
      " 8   homeTeamScore  2024 non-null   int64  \n",
      " 9   awayTeam       2024 non-null   object \n",
      " 10  awayTeamScore  2024 non-null   int64  \n",
      " 11  rainfall       1993 non-null   float64\n",
      "dtypes: float64(1), int64(4), object(7)\n",
      "memory usage: 189.9+ KB\n"
     ]
    },
    {
     "data": {
      "text/plain": [
       "None"
      ]
     },
     "metadata": {},
     "output_type": "display_data"
    },
    {
     "name": "stdout",
     "output_type": "stream",
     "text": [
      "\n",
      ">>>>>>>>>>>>>>PLAYERS<<<<<<<<<<<<\n"
     ]
    },
    {
     "data": {
      "text/html": [
       "<div>\n",
       "<style scoped>\n",
       "    .dataframe tbody tr th:only-of-type {\n",
       "        vertical-align: middle;\n",
       "    }\n",
       "\n",
       "    .dataframe tbody tr th {\n",
       "        vertical-align: top;\n",
       "    }\n",
       "\n",
       "    .dataframe thead th {\n",
       "        text-align: right;\n",
       "    }\n",
       "</style>\n",
       "<table border=\"1\" class=\"dataframe\">\n",
       "  <thead>\n",
       "    <tr style=\"text-align: right;\">\n",
       "      <th></th>\n",
       "      <th>playerId</th>\n",
       "      <th>displayName</th>\n",
       "      <th>height</th>\n",
       "      <th>weight</th>\n",
       "      <th>dob</th>\n",
       "      <th>position</th>\n",
       "      <th>origin</th>\n",
       "    </tr>\n",
       "  </thead>\n",
       "  <tbody>\n",
       "    <tr>\n",
       "      <th>0</th>\n",
       "      <td>2021661124</td>\n",
       "      <td>Berry, Sam</td>\n",
       "      <td>181</td>\n",
       "      <td>81</td>\n",
       "      <td>12-Feb-2002</td>\n",
       "      <td>Midfield, Forward</td>\n",
       "      <td>Gippsland Power</td>\n",
       "    </tr>\n",
       "    <tr>\n",
       "      <th>1</th>\n",
       "      <td>2012662083</td>\n",
       "      <td>Brown, Luke</td>\n",
       "      <td>181</td>\n",
       "      <td>81</td>\n",
       "      <td>22-Sep-1992</td>\n",
       "      <td>Defender</td>\n",
       "      <td>Norwood</td>\n",
       "    </tr>\n",
       "  </tbody>\n",
       "</table>\n",
       "</div>"
      ],
      "text/plain": [
       "     playerId  displayName  height  weight          dob           position  \\\n",
       "0  2021661124   Berry, Sam     181      81  12-Feb-2002  Midfield, Forward   \n",
       "1  2012662083  Brown, Luke     181      81  22-Sep-1992           Defender   \n",
       "\n",
       "            origin  \n",
       "0  Gippsland Power  \n",
       "1          Norwood  "
      ]
     },
     "metadata": {},
     "output_type": "display_data"
    },
    {
     "name": "stdout",
     "output_type": "stream",
     "text": [
      "\n"
     ]
    },
    {
     "data": {
      "text/html": [
       "<div>\n",
       "<style scoped>\n",
       "    .dataframe tbody tr th:only-of-type {\n",
       "        vertical-align: middle;\n",
       "    }\n",
       "\n",
       "    .dataframe tbody tr th {\n",
       "        vertical-align: top;\n",
       "    }\n",
       "\n",
       "    .dataframe thead th {\n",
       "        text-align: right;\n",
       "    }\n",
       "</style>\n",
       "<table border=\"1\" class=\"dataframe\">\n",
       "  <thead>\n",
       "    <tr style=\"text-align: right;\">\n",
       "      <th></th>\n",
       "      <th>playerId</th>\n",
       "      <th>displayName</th>\n",
       "      <th>height</th>\n",
       "      <th>weight</th>\n",
       "      <th>dob</th>\n",
       "      <th>position</th>\n",
       "      <th>origin</th>\n",
       "    </tr>\n",
       "  </thead>\n",
       "  <tbody>\n",
       "    <tr>\n",
       "      <th>1493</th>\n",
       "      <td>2005833394</td>\n",
       "      <td>Sherman, Justin</td>\n",
       "      <td>183</td>\n",
       "      <td>89</td>\n",
       "      <td>26-Jan-1987</td>\n",
       "      <td>Midfield, Forward</td>\n",
       "      <td>Clarence</td>\n",
       "    </tr>\n",
       "    <tr>\n",
       "      <th>1494</th>\n",
       "      <td>2011838967</td>\n",
       "      <td>Skinner, Zephaniah</td>\n",
       "      <td>189</td>\n",
       "      <td>79</td>\n",
       "      <td>27-Jun-1989</td>\n",
       "      <td>Forward</td>\n",
       "      <td>-</td>\n",
       "    </tr>\n",
       "  </tbody>\n",
       "</table>\n",
       "</div>"
      ],
      "text/plain": [
       "        playerId         displayName  height  weight          dob  \\\n",
       "1493  2005833394     Sherman, Justin     183      89  26-Jan-1987   \n",
       "1494  2011838967  Skinner, Zephaniah     189      79  27-Jun-1989   \n",
       "\n",
       "               position    origin  \n",
       "1493  Midfield, Forward  Clarence  \n",
       "1494            Forward         -  "
      ]
     },
     "metadata": {},
     "output_type": "display_data"
    },
    {
     "name": "stdout",
     "output_type": "stream",
     "text": [
      "\n",
      "<class 'pandas.core.frame.DataFrame'>\n",
      "RangeIndex: 1495 entries, 0 to 1494\n",
      "Data columns (total 7 columns):\n",
      " #   Column       Non-Null Count  Dtype \n",
      "---  ------       --------------  ----- \n",
      " 0   playerId     1495 non-null   int64 \n",
      " 1   displayName  1495 non-null   object\n",
      " 2   height       1495 non-null   int64 \n",
      " 3   weight       1495 non-null   int64 \n",
      " 4   dob          1495 non-null   object\n",
      " 5   position     1495 non-null   object\n",
      " 6   origin       1491 non-null   object\n",
      "dtypes: int64(3), object(4)\n",
      "memory usage: 81.9+ KB\n"
     ]
    },
    {
     "data": {
      "text/plain": [
       "None"
      ]
     },
     "metadata": {},
     "output_type": "display_data"
    },
    {
     "name": "stdout",
     "output_type": "stream",
     "text": [
      "\n",
      ">>>>>>>>>>>>>>STATS<<<<<<<<<<<<\n"
     ]
    },
    {
     "data": {
      "text/html": [
       "<div>\n",
       "<style scoped>\n",
       "    .dataframe tbody tr th:only-of-type {\n",
       "        vertical-align: middle;\n",
       "    }\n",
       "\n",
       "    .dataframe tbody tr th {\n",
       "        vertical-align: top;\n",
       "    }\n",
       "\n",
       "    .dataframe thead th {\n",
       "        text-align: right;\n",
       "    }\n",
       "</style>\n",
       "<table border=\"1\" class=\"dataframe\">\n",
       "  <thead>\n",
       "    <tr style=\"text-align: right;\">\n",
       "      <th></th>\n",
       "      <th>gameId</th>\n",
       "      <th>team</th>\n",
       "      <th>year</th>\n",
       "      <th>round</th>\n",
       "      <th>playerId</th>\n",
       "      <th>displayName</th>\n",
       "      <th>gameNumber</th>\n",
       "      <th>Disposals</th>\n",
       "      <th>Kicks</th>\n",
       "      <th>Marks</th>\n",
       "      <th>...</th>\n",
       "      <th>Brownlow Votes</th>\n",
       "      <th>Contested Possessions</th>\n",
       "      <th>Uncontested Possessions</th>\n",
       "      <th>Contested Marks</th>\n",
       "      <th>Marks Inside 50</th>\n",
       "      <th>One Percenters</th>\n",
       "      <th>Bounces</th>\n",
       "      <th>Goal Assists</th>\n",
       "      <th>% Played</th>\n",
       "      <th>Subs</th>\n",
       "    </tr>\n",
       "  </thead>\n",
       "  <tbody>\n",
       "    <tr>\n",
       "      <th>0</th>\n",
       "      <td>2021R104</td>\n",
       "      <td>Adelaide</td>\n",
       "      <td>2021</td>\n",
       "      <td>R1</td>\n",
       "      <td>2021661124</td>\n",
       "      <td>Berry, Sam</td>\n",
       "      <td>1</td>\n",
       "      <td>8</td>\n",
       "      <td>6</td>\n",
       "      <td>1</td>\n",
       "      <td>...</td>\n",
       "      <td>0</td>\n",
       "      <td>4</td>\n",
       "      <td>5</td>\n",
       "      <td>0</td>\n",
       "      <td>0</td>\n",
       "      <td>0</td>\n",
       "      <td>0</td>\n",
       "      <td>1</td>\n",
       "      <td>80</td>\n",
       "      <td>-</td>\n",
       "    </tr>\n",
       "    <tr>\n",
       "      <th>1</th>\n",
       "      <td>2021R104</td>\n",
       "      <td>Adelaide</td>\n",
       "      <td>2021</td>\n",
       "      <td>R1</td>\n",
       "      <td>2012662083</td>\n",
       "      <td>Brown, Luke</td>\n",
       "      <td>168</td>\n",
       "      <td>5</td>\n",
       "      <td>2</td>\n",
       "      <td>0</td>\n",
       "      <td>...</td>\n",
       "      <td>0</td>\n",
       "      <td>2</td>\n",
       "      <td>3</td>\n",
       "      <td>0</td>\n",
       "      <td>0</td>\n",
       "      <td>0</td>\n",
       "      <td>0</td>\n",
       "      <td>0</td>\n",
       "      <td>23</td>\n",
       "      <td>Off</td>\n",
       "    </tr>\n",
       "  </tbody>\n",
       "</table>\n",
       "<p>2 rows × 31 columns</p>\n",
       "</div>"
      ],
      "text/plain": [
       "     gameId      team  year round    playerId  displayName  gameNumber  \\\n",
       "0  2021R104  Adelaide  2021    R1  2021661124   Berry, Sam           1   \n",
       "1  2021R104  Adelaide  2021    R1  2012662083  Brown, Luke         168   \n",
       "\n",
       "   Disposals  Kicks  Marks  ...  Brownlow Votes  Contested Possessions  \\\n",
       "0          8      6      1  ...               0                      4   \n",
       "1          5      2      0  ...               0                      2   \n",
       "\n",
       "   Uncontested Possessions  Contested Marks  Marks Inside 50  One Percenters  \\\n",
       "0                        5                0                0               0   \n",
       "1                        3                0                0               0   \n",
       "\n",
       "   Bounces  Goal Assists  % Played  Subs  \n",
       "0        0             1        80     -  \n",
       "1        0             0        23   Off  \n",
       "\n",
       "[2 rows x 31 columns]"
      ]
     },
     "metadata": {},
     "output_type": "display_data"
    },
    {
     "name": "stdout",
     "output_type": "stream",
     "text": [
      "\n"
     ]
    },
    {
     "data": {
      "text/html": [
       "<div>\n",
       "<style scoped>\n",
       "    .dataframe tbody tr th:only-of-type {\n",
       "        vertical-align: middle;\n",
       "    }\n",
       "\n",
       "    .dataframe tbody tr th {\n",
       "        vertical-align: top;\n",
       "    }\n",
       "\n",
       "    .dataframe thead th {\n",
       "        text-align: right;\n",
       "    }\n",
       "</style>\n",
       "<table border=\"1\" class=\"dataframe\">\n",
       "  <thead>\n",
       "    <tr style=\"text-align: right;\">\n",
       "      <th></th>\n",
       "      <th>gameId</th>\n",
       "      <th>team</th>\n",
       "      <th>year</th>\n",
       "      <th>round</th>\n",
       "      <th>playerId</th>\n",
       "      <th>displayName</th>\n",
       "      <th>gameNumber</th>\n",
       "      <th>Disposals</th>\n",
       "      <th>Kicks</th>\n",
       "      <th>Marks</th>\n",
       "      <th>...</th>\n",
       "      <th>Brownlow Votes</th>\n",
       "      <th>Contested Possessions</th>\n",
       "      <th>Uncontested Possessions</th>\n",
       "      <th>Contested Marks</th>\n",
       "      <th>Marks Inside 50</th>\n",
       "      <th>One Percenters</th>\n",
       "      <th>Bounces</th>\n",
       "      <th>Goal Assists</th>\n",
       "      <th>% Played</th>\n",
       "      <th>Subs</th>\n",
       "    </tr>\n",
       "  </thead>\n",
       "  <tbody>\n",
       "    <tr>\n",
       "      <th>89468</th>\n",
       "      <td>2012R2309</td>\n",
       "      <td>Western Bulldogs</td>\n",
       "      <td>2012</td>\n",
       "      <td>R23</td>\n",
       "      <td>2011872415</td>\n",
       "      <td>Wallis, Mitch</td>\n",
       "      <td>25</td>\n",
       "      <td>19</td>\n",
       "      <td>8</td>\n",
       "      <td>2</td>\n",
       "      <td>...</td>\n",
       "      <td>0</td>\n",
       "      <td>9</td>\n",
       "      <td>11</td>\n",
       "      <td>0</td>\n",
       "      <td>0</td>\n",
       "      <td>2</td>\n",
       "      <td>0</td>\n",
       "      <td>0</td>\n",
       "      <td>83</td>\n",
       "      <td>-</td>\n",
       "    </tr>\n",
       "    <tr>\n",
       "      <th>89469</th>\n",
       "      <td>2012R2309</td>\n",
       "      <td>Western Bulldogs</td>\n",
       "      <td>2012</td>\n",
       "      <td>R23</td>\n",
       "      <td>2009879614</td>\n",
       "      <td>Wood, Easton</td>\n",
       "      <td>42</td>\n",
       "      <td>20</td>\n",
       "      <td>13</td>\n",
       "      <td>11</td>\n",
       "      <td>...</td>\n",
       "      <td>0</td>\n",
       "      <td>2</td>\n",
       "      <td>18</td>\n",
       "      <td>0</td>\n",
       "      <td>0</td>\n",
       "      <td>3</td>\n",
       "      <td>1</td>\n",
       "      <td>0</td>\n",
       "      <td>89</td>\n",
       "      <td>-</td>\n",
       "    </tr>\n",
       "  </tbody>\n",
       "</table>\n",
       "<p>2 rows × 31 columns</p>\n",
       "</div>"
      ],
      "text/plain": [
       "          gameId              team  year round    playerId    displayName  \\\n",
       "89468  2012R2309  Western Bulldogs  2012   R23  2011872415  Wallis, Mitch   \n",
       "89469  2012R2309  Western Bulldogs  2012   R23  2009879614   Wood, Easton   \n",
       "\n",
       "       gameNumber  Disposals  Kicks  Marks  ...  Brownlow Votes  \\\n",
       "89468          25         19      8      2  ...               0   \n",
       "89469          42         20     13     11  ...               0   \n",
       "\n",
       "       Contested Possessions  Uncontested Possessions  Contested Marks  \\\n",
       "89468                      9                       11                0   \n",
       "89469                      2                       18                0   \n",
       "\n",
       "       Marks Inside 50  One Percenters  Bounces  Goal Assists  % Played  Subs  \n",
       "89468                0               2        0             0        83     -  \n",
       "89469                0               3        1             0        89     -  \n",
       "\n",
       "[2 rows x 31 columns]"
      ]
     },
     "metadata": {},
     "output_type": "display_data"
    },
    {
     "name": "stdout",
     "output_type": "stream",
     "text": [
      "\n",
      "<class 'pandas.core.frame.DataFrame'>\n",
      "RangeIndex: 89470 entries, 0 to 89469\n",
      "Data columns (total 31 columns):\n",
      " #   Column                   Non-Null Count  Dtype \n",
      "---  ------                   --------------  ----- \n",
      " 0   gameId                   89470 non-null  object\n",
      " 1   team                     89470 non-null  object\n",
      " 2   year                     89470 non-null  int64 \n",
      " 3   round                    89470 non-null  object\n",
      " 4   playerId                 89470 non-null  int64 \n",
      " 5   displayName              89470 non-null  object\n",
      " 6   gameNumber               89470 non-null  int64 \n",
      " 7   Disposals                89470 non-null  int64 \n",
      " 8   Kicks                    89470 non-null  int64 \n",
      " 9   Marks                    89470 non-null  int64 \n",
      " 10  Handballs                89470 non-null  int64 \n",
      " 11  Goals                    89470 non-null  int64 \n",
      " 12  Behinds                  89470 non-null  int64 \n",
      " 13  Hit Outs                 89470 non-null  int64 \n",
      " 14  Tackles                  89470 non-null  int64 \n",
      " 15  Rebounds                 89470 non-null  int64 \n",
      " 16  Inside 50s               89470 non-null  int64 \n",
      " 17  Clearances               89470 non-null  int64 \n",
      " 18  Clangers                 89470 non-null  int64 \n",
      " 19  Frees                    89470 non-null  int64 \n",
      " 20  Frees Against            89470 non-null  int64 \n",
      " 21  Brownlow Votes           89470 non-null  int64 \n",
      " 22  Contested Possessions    89470 non-null  int64 \n",
      " 23  Uncontested Possessions  89470 non-null  int64 \n",
      " 24  Contested Marks          89470 non-null  int64 \n",
      " 25  Marks Inside 50          89470 non-null  int64 \n",
      " 26  One Percenters           89470 non-null  int64 \n",
      " 27  Bounces                  89470 non-null  int64 \n",
      " 28  Goal Assists             89470 non-null  int64 \n",
      " 29  % Played                 89470 non-null  int64 \n",
      " 30  Subs                     45910 non-null  object\n",
      "dtypes: int64(26), object(5)\n",
      "memory usage: 21.2+ MB\n"
     ]
    },
    {
     "data": {
      "text/plain": [
       "None"
      ]
     },
     "metadata": {},
     "output_type": "display_data"
    },
    {
     "name": "stdout",
     "output_type": "stream",
     "text": [
      "\n"
     ]
    },
    {
     "data": {
      "text/plain": [
       "gameId         0\n",
       "playerId       0\n",
       "gameNumber     0\n",
       "Disposals      0\n",
       "Kicks          0\n",
       "Handballs      0\n",
       "Goals          0\n",
       "Behinds        0\n",
       "displayName    0\n",
       "position       0\n",
       "year           0\n",
       "round          0\n",
       "venue          0\n",
       "dtype: int64"
      ]
     },
     "metadata": {},
     "output_type": "display_data"
    },
    {
     "data": {
      "text/plain": [
       "gameId         0\n",
       "playerId       0\n",
       "gameNumber     0\n",
       "Disposals      0\n",
       "Kicks          0\n",
       "Handballs      0\n",
       "Goals          0\n",
       "Behinds        0\n",
       "displayName    0\n",
       "position       0\n",
       "year           0\n",
       "round          0\n",
       "venue          0\n",
       "dtype: int64"
      ]
     },
     "metadata": {},
     "output_type": "display_data"
    },
    {
     "data": {
      "text/plain": [
       "'------gameId-------'"
      ]
     },
     "metadata": {},
     "output_type": "display_data"
    },
    {
     "name": "stdout",
     "output_type": "stream",
     "text": [
      "0\n"
     ]
    },
    {
     "data": {
      "text/plain": [
       "'------playerId-------'"
      ]
     },
     "metadata": {},
     "output_type": "display_data"
    },
    {
     "name": "stdout",
     "output_type": "stream",
     "text": [
      "0\n"
     ]
    },
    {
     "data": {
      "text/plain": [
       "'------gameNumber-------'"
      ]
     },
     "metadata": {},
     "output_type": "display_data"
    },
    {
     "name": "stdout",
     "output_type": "stream",
     "text": [
      "0\n"
     ]
    },
    {
     "data": {
      "text/plain": [
       "'------Disposals-------'"
      ]
     },
     "metadata": {},
     "output_type": "display_data"
    },
    {
     "name": "stdout",
     "output_type": "stream",
     "text": [
      "302\n"
     ]
    },
    {
     "data": {
      "text/plain": [
       "'------Kicks-------'"
      ]
     },
     "metadata": {},
     "output_type": "display_data"
    },
    {
     "name": "stdout",
     "output_type": "stream",
     "text": [
      "676\n"
     ]
    },
    {
     "data": {
      "text/plain": [
       "'------Handballs-------'"
      ]
     },
     "metadata": {},
     "output_type": "display_data"
    },
    {
     "name": "stdout",
     "output_type": "stream",
     "text": [
      "1544\n"
     ]
    },
    {
     "data": {
      "text/plain": [
       "'------Goals-------'"
      ]
     },
     "metadata": {},
     "output_type": "display_data"
    },
    {
     "name": "stdout",
     "output_type": "stream",
     "text": [
      "58707\n"
     ]
    },
    {
     "data": {
      "text/plain": [
       "'------Behinds-------'"
      ]
     },
     "metadata": {},
     "output_type": "display_data"
    },
    {
     "name": "stdout",
     "output_type": "stream",
     "text": [
      "63341\n"
     ]
    },
    {
     "data": {
      "text/plain": [
       "'------displayName-------'"
      ]
     },
     "metadata": {},
     "output_type": "display_data"
    },
    {
     "name": "stdout",
     "output_type": "stream",
     "text": [
      "0\n"
     ]
    },
    {
     "data": {
      "text/plain": [
       "'------position-------'"
      ]
     },
     "metadata": {},
     "output_type": "display_data"
    },
    {
     "name": "stdout",
     "output_type": "stream",
     "text": [
      "0\n"
     ]
    },
    {
     "data": {
      "text/plain": [
       "'------year-------'"
      ]
     },
     "metadata": {},
     "output_type": "display_data"
    },
    {
     "name": "stdout",
     "output_type": "stream",
     "text": [
      "0\n"
     ]
    },
    {
     "data": {
      "text/plain": [
       "'------round-------'"
      ]
     },
     "metadata": {},
     "output_type": "display_data"
    },
    {
     "name": "stdout",
     "output_type": "stream",
     "text": [
      "0\n"
     ]
    },
    {
     "data": {
      "text/plain": [
       "'------venue-------'"
      ]
     },
     "metadata": {},
     "output_type": "display_data"
    },
    {
     "name": "stdout",
     "output_type": "stream",
     "text": [
      "0\n"
     ]
    }
   ],
   "source": [
    "##########                       MERGING/DATA CLEANING              #########\n",
    "\n",
    "\n",
    "######---------------------------IMPORTING----------------------------------------------------\n",
    "\n",
    "import pandas as pd\n",
    "\n",
    "games_raw = pd.read_csv(\"data/games.csv\")\n",
    "players_raw = pd.read_csv(\"data/players.csv\")\n",
    "stats_raw = pd.read_csv(\"data/stats.csv\")\n",
    "\n",
    "\n",
    "\n",
    "######---------------------------INITIAL DATA EXPLORATION--------------------------------------\n",
    "\n",
    "print(\">>>>>>>>>>>>>>PLAYERS<<<<<<<<<<<<\")\n",
    "display(games_raw.head(2))\n",
    "print(\"\")\n",
    "display(games_raw.tail(2))\n",
    "print(\"\")\n",
    "display(games_raw.info())\n",
    "print(\"\")\n",
    "\n",
    "print(\">>>>>>>>>>>>>>PLAYERS<<<<<<<<<<<<\")\n",
    "display(players_raw.head(2))\n",
    "print(\"\")\n",
    "display(players_raw.tail(2))\n",
    "print(\"\")\n",
    "display(players_raw.info())\n",
    "print(\"\")\n",
    "\n",
    "print(\">>>>>>>>>>>>>>STATS<<<<<<<<<<<<\")\n",
    "display(stats_raw.head(2))\n",
    "print(\"\")\n",
    "display(stats_raw.tail(2))\n",
    "print(\"\")\n",
    "display(stats_raw.info())\n",
    "print(\"\")\n",
    "\n",
    "\n",
    "\n",
    "######--------------------------REMOVING UNNECESSARY COLUMNS---------------------------------------\n",
    "\n",
    "### Only columns relevant to the current analysis were kept\n",
    "games_data = games_raw.drop(columns = [\"homeTeam\", \"rainfall\", \"date\", \"startTime\", \"attendance\", \"homeTeamScore\", \"awayTeam\",\"awayTeamScore\"])\n",
    "\n",
    "players_data = players_raw.drop(columns = [\"height\", \"weight\", \"dob\", \"origin\"])\n",
    "\n",
    "stats_data = stats_raw.drop(columns = [\"team\", \"Inside 50s\", \"Contested Possessions\", \"Uncontested Possessions\", \"year\", \"round\", \"displayName\", \"Hit Outs\", \"Tackles\", \"Rebounds\", \"Clearances\", \"Clangers\", \"Frees\", \"Frees Against\", \"Brownlow Votes\", \"Contested Marks\", \"Marks Inside 50\", \"One Percenters\", \"Bounces\", \"Goal Assists\", \"% Played\", \"Subs\", \"Marks\"])\n",
    "\n",
    "\n",
    "\n",
    "######-----------------------NORMALISING DATA TYPES---------------------------------------\n",
    "\n",
    "### PlayerID was converted to int to allow for easier merging \n",
    "players_data[\"playerId\"]=players_data[\"playerId\"].astype(int)\n",
    "\n",
    "stats_data[\"playerId\"]=stats_data[\"playerId\"].astype(int)\n",
    "\n",
    "\n",
    "\n",
    "######--------------------------MERGING TABLES----------------------------------------------\n",
    "# Fact table (stats) was used as the left table in these merges. Dimension tables (players,\n",
    "# games) were used as right table in these merges. \n",
    "players_stats_raw = stats_data.merge(how='left', left_on='playerId', right=players_data, right_on='playerId')\n",
    "\n",
    "complete_stats_raw = players_stats_raw.merge(how='left', left_on='gameId', right=games_data, right_on = 'gameId')\n",
    "\n",
    "\n",
    "\n",
    "######------------------CLEANING DATA I: REMOVING DUPLICATES----------------------------------\n",
    "\n",
    "# Duplicates were removed to ensure that each entry for a specific player in a specific \n",
    "# game is unique \n",
    "stats_cleaned1 = complete_stats_raw.drop_duplicates(subset=['gameId', 'playerId'], keep=\"first\")\n",
    "\n",
    "\n",
    "\n",
    "######--------------CLEANING DATA II: HANDLING ZERO/MISSING VALUES---------------------------\n",
    "\n",
    "\n",
    "### Check for null values\n",
    "mask_null = stats_cleaned1.isnull()\n",
    "display(mask_null.sum())\n",
    "\n",
    "### Check for NA values \n",
    "mask_na = stats_cleaned1.isna()\n",
    "display(mask_na.sum())\n",
    "\n",
    "### Check for zero values in columns\n",
    "for column_name in stats_cleaned1.columns:\n",
    "    zero_values = stats_cleaned1[column_name] == 0\n",
    "    display(\"------\" + column_name + \"-------\")\n",
    "    print(zero_values.sum())\n",
    "\n",
    "### No Null, NA or zero values found, no further cleaning necessary\n",
    "\n",
    "\n",
    "\n",
    "######--------------CLEANING DATA III: FINISHING TOUCHES------------------------------\n",
    "\n",
    "\n",
    "### 1- Remove ID columns (no longer needed now that the merge is complete)\n",
    "stats_cleaned2 = stats_cleaned1.drop(columns = [\"gameId\", \"playerId\"])\n",
    "\n",
    "### 2- Reorder columns\n",
    "stats_cleaned3 = stats_cleaned2.loc[:, [\"year\", \"round\", \"displayName\", \"position\", \"gameNumber\", \"Disposals\", \"Kicks\", \"Handballs\", \"Goals\", \"Behinds\",]]\n",
    "\n",
    "### 3- Replace QF, SF etc with R24, R25 etc. \n",
    "stats_cleaned3['Round_new'] = stats_cleaned3['round'].replace(['QF', 'EF', 'SF', 'PF', 'GF'], ['R24', 'R24', 'R25', 'R26', 'R27'])\n",
    "stats_cleaned4 = stats_cleaned3.drop(columns = ['round'])\n",
    "\n",
    "### 4- Rename columns\n",
    "stats_cleaned5 = stats_cleaned4.rename(columns={\"year\" : \"Year\", \"Round_new\":\"Round\", \"displayName\":\"Player Name\", \"position\":\"Position\", \"gameNumber\":\"Game Number\"})\n",
    "\n",
    "### 5- Remove \"R\" in Rounds column\n",
    "stats_cleaned5['Round Number'] = list(map(lambda i: i[1:], stats_cleaned5['Round']))\n",
    "stats_cleaned6 = stats_cleaned5.drop(columns = ['Round'])\n",
    "\n",
    "\n",
    "### 6- Reorder rows chronologically\n",
    "stats_cleaned6['Round Number']=stats_cleaned6['Round Number'].astype(int)\n",
    "stats_new_index = stats_cleaned6.set_index(['Year', \"Round Number\"])\n",
    "reordered_stats = stats_new_index.sort_values(['Year', \"Round Number\"])\n",
    "stats = reordered_stats\n",
    "# display(stats)\n"
   ]
  },
  {
   "cell_type": "markdown",
   "metadata": {},
   "source": [
    "The above has generated a clean, unified dataset (stats) which can now be used for analysis. "
   ]
  },
  {
   "cell_type": "code",
   "execution_count": 2,
   "metadata": {},
   "outputs": [
    {
     "data": {
      "image/png": "[encoded data removed]",
      "text/plain": [
       "<Figure size 640x480 with 1 Axes>"
      ]
     },
     "metadata": {},
     "output_type": "display_data"
    }
   ],
   "source": [
    "##########           PLOTTING ONE PLAYER (LANCE \"BUDDY\" FRANKLIN)          #########\n",
    "\n",
    "### Filtering total data to only include buddy's stats\n",
    "buddy_stats = pd.DataFrame(stats[stats[\"Player Name\"] == \"Franklin, Lance\"])\n",
    "\n",
    "### Reformatting games played to start from 1 \n",
    "buddy_stats[\"Games Played\"] = (buddy_stats[\"Game Number\"]) - 142\n",
    "\n",
    "### Creating a running total goals column\n",
    "buddy_stats[\"Total Goals\"] = buddy_stats[\"Goals\"].cumsum()\n",
    "\n",
    "### Plotting Buddy's goals over time\n",
    "buddy_plot = buddy_stats.plot(kind='line', x='Games Played', xlabel = \"Games Played\", y='Total Goals', ylabel = \"Goals Kicked\", legend=True, label = \"Lance Franklin\", title = \"Lance Franklin's Goal-Kicking from 2012 to 2021\")"
   ]
  },
  {
   "cell_type": "markdown",
   "metadata": {},
   "source": [
    "The above plot shows us the progression of Lance \"Buddy\" Franklin's total goals over his career, between the years of 2012 and 2021. \n",
    "Notably, it is immediately noticeable that this line is very straight, with little deviation. This indicates an incredible consistency in Buddy's goalkicking. We can also see from the steepness of the line that he kicks a lot of goals. By \"eyeballing\" the chart we can see that Buddy averages approximately 3 goals per game over the entire stretch from 2012-2021.\n",
    "From watching AFL consistently, I can say with certainty that a CONSISTENT 3 goal average over hundreds of games is a remarkable feat that few have every achieved.  "
   ]
  },
  {
   "cell_type": "code",
   "execution_count": 3,
   "metadata": {},
   "outputs": [
    {
     "data": {
      "text/plain": [
       "<Axes: xlabel='Games Played', ylabel='Goals Kicked'>"
      ]
     },
     "metadata": {},
     "output_type": "display_data"
    },
    {
     "data": {
      "image/png": "[encoded data removed]",
      "text/plain": [
       "<Figure size 640x480 with 1 Axes>"
      ]
     },
     "metadata": {},
     "output_type": "display_data"
    }
   ],
   "source": [
    "##########               PLOTTING MULTIPLE PLAYERS               #########\n",
    "\n",
    "\n",
    "### Create blank canvas\n",
    "ax = pd.Series([] ,dtype = int).plot(color=\"purple\")\n",
    "\n",
    "### Define players to analyse\n",
    "player_list = [\"Franklin, Lance\", \"Papley, Tom\", \"Mumford, Shane\", \"Hooker, Cale\"]\n",
    "\n",
    "### Create loop to plot each player in 'player_list'\n",
    "for p in player_list: \n",
    "    p_stats = pd.DataFrame(stats[stats[\"Player Name\"] == p])\n",
    "    p_stats[\"Games Played\"] = (p_stats[\"Game Number\"] - p_stats[\"Game Number\"].min()) +1\n",
    "    p_stats[\"Total Goals\"] = p_stats[\"Goals\"].cumsum()\n",
    "    p_plot = p_stats.plot(kind=\"line\", x = \"Games Played\", xlabel = \"Games Played\", y=\"Total Goals\", ylabel = \"Goals Kicked\", ax=ax, label = p, legend = True)\n",
    "    \n",
    "\n",
    "display(ax)\n"
   ]
  },
  {
   "cell_type": "markdown",
   "metadata": {},
   "source": [
    "The above chart shows the plot of four players goal kicking between 2012 and 2021. \n",
    "\n",
    "First impressions tell us that the player plotted in orange (Tom Papley) had remarkably fewer games played than others. Upon reviewing the data, it can be found that data for Tom Papley begins in 2016, in line with his AFL debut. The other players are older and were thus playing continuously from 2012 onwards. The discrepancy in total games played can be attributed to injuries over the years. \n",
    "\n",
    "Next, there is a noticable difference in the shape of the line drawn for Cale \"Hooksy\" Hooker. There is a marked increase in the slop of the line between game ~75 and ~105 and again from game ~155 onwards. Cale Hooker was a key forward/defender in his career. The periods in which he kicked many goals would represent the periods where he played in the forward line whereas the flat periods would represent his time as a defender. \n",
    "\n",
    "Lastly, of the remaining three plotted lines, all have notably different gradients. This can be attributed to multiple factors: \n",
    "- Shane Mumford played in the ruck for most of his career, typically not a big goal scoring position.\n",
    "- Tom Papley plays as a small forward, explaining why he kicks goals consistently and significantly more than Mumford.\n",
    "- Buddy Franklin was a key forward, and one of the best of all time, explaining why the gradient for his line is much steeper. "
   ]
  },
  {
   "cell_type": "code",
   "execution_count": 4,
   "metadata": {},
   "outputs": [
    {
     "data": {
      "text/plain": [
       "<Axes: xlabel='Games Played', ylabel='Goals Kicked'>"
      ]
     },
     "execution_count": 4,
     "metadata": {},
     "output_type": "execute_result"
    },
    {
     "data": {
      "image/png": "[encoded data removed]",
      "text/plain": [
       "<Figure size 640x480 with 1 Axes>"
      ]
     },
     "metadata": {},
     "output_type": "display_data"
    }
   ],
   "source": [
    "##########                PLOTTING PLAYERS PREDICTED GOALS         #########\n",
    "\n",
    "import numpy as np \n",
    "\n",
    "##Finding the Coefficients\n",
    "buddy_coef = np.polyfit(buddy_stats[\"Games Played\"], buddy_stats[\"Total Goals\"],1)\n",
    "\n",
    "##Finding the formula of the prediction line\n",
    "buddy_line = np.poly1d(buddy_coef)\n",
    "# display(buddy_line(100))\n",
    "\n",
    "## Creating a predicted goals column \n",
    "buddy_stats[\"Prediction\"] = buddy_line(buddy_stats[\"Games Played\"])\n",
    "\n",
    "## Plotting Buddy's goals along with his predicted goals (canvas)\n",
    "canvas = buddy_stats.plot(kind=\"line\", x=\"Games Played\", y='Total Goals', legend=True, label = \"Lance Franklin\")\n",
    "buddy_prediction_plot = buddy_stats.plot(kind='line', x='Games Played', y='Prediction', label=\"Lance Franklin: Predicted\", color='Red', ax=canvas)\n",
    "\n",
    "## Define players to analyse\n",
    "player_list = [\"Hooker, Cale\", \"Papley, Tom\", \"Martin, Dustin\"]\n",
    "\n",
    "\n",
    "##Create loop to calculate and plot predicted goals for players in 'player_list'\n",
    "for p in player_list: \n",
    "    ## Filter dataset\n",
    "    p_stats = pd.DataFrame(stats[stats[\"Player Name\"] == p])\n",
    "    ## Reset games played to start at 1\n",
    "    p_stats[\"Games Played\"] = (p_stats[\"Game Number\"] - p_stats[\"Game Number\"].min()) +1\n",
    "    ## Create a running 'Total goals' column\n",
    "    p_stats[\"Total Goals\"] = p_stats[\"Goals\"].cumsum()\n",
    "    ## Plot actual goals \n",
    "    p_plot = p_stats.plot(kind=\"line\", x = \"Games Played\", xlabel = \"Games Played\", y=\"Total Goals\", ylabel = \"Goals Kicked\", ax=canvas, label = p, legend = True)\n",
    "    ## Calculate player coefficients\n",
    "    p_coef = np.polyfit(p_stats[\"Games Played\"], p_stats[\"Total Goals\"], 1)\n",
    "    ## Fit a line with those coefficients\n",
    "    p_line = np.poly1d(p_coef)\n",
    "    ## Create a predicted goals column\n",
    "    p_stats[\"Prediction\"] = p_line(p_stats[\"Games Played\"])\n",
    "    ## Plot prediction on original chart (canvas)\n",
    "    p_prediction_plot = p_stats.plot(kind='line', x=\"Games Played\", y='Prediction', label = (p + \": Predicted\"), legend=True, ax=canvas)\n",
    "\n",
    "canvas  \n",
    "\n"
   ]
  },
  {
   "cell_type": "markdown",
   "metadata": {},
   "source": [
    "In the above chart we can see the plotted goals kicked between 2012 and 2021 for two players, as well as the predicted goals. \n",
    "\n",
    "Buddy Franklin is a remarkably consistent goalscorer and the actual goals plot stays quite close to the prediction line throughout the whole timeframe. The slope of the line is 3.17 indicating that Buddy kicked an average of 3+ goals per game in the given timeframe. \n",
    "\n",
    "Cale Hooker on the other hand changed positions multiple times throughout his career, switching between key forward and defender roles. The flat periods represent his time as a defender while the steeper sections represent his time as a key forward. Due to this inconsistency, the actual goals plot deviates from the predicted goals plot a lot during his career. Notably, the predicted goals line starts in the negatives, which is of course infeasable and indicates that some adjustment may need to be made to create a \"realistic line of best fit\" for this player. The slope of the line is 0.75 indicating that Hooker averaged less than a goal per game. However, given that this line starts from -25 the real value for his expected goals is likely  higher."
   ]
  }
 ],
 "metadata": {
  "kernelspec": {
   "display_name": "Python 3",
   "language": "python",
   "name": "python3"
  },
  "language_info": {
   "codemirror_mode": {
    "name": "ipython",
    "version": 3
   },
   "file_extension": ".py",
   "mimetype": "text/x-python",
   "name": "python",
   "nbconvert_exporter": "python",
   "pygments_lexer": "ipython3",
   "version": "3.12.9"
  }
 },
 "nbformat": 4,
 "nbformat_minor": 2
}
